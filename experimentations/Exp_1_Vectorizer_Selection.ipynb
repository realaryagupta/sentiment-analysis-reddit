{
 "cells": [
  {
   "cell_type": "code",
   "execution_count": 1,
   "id": "e77ec95b-7d18-4aa4-b0ed-964d01eb544f",
   "metadata": {},
   "outputs": [],
   "source": [
    "import dagshub\n",
    "import mlflow\n",
    "import pandas as pd\n",
    "import numpy as np\n",
    "from sklearn.feature_extraction.text import CountVectorizer, TfidfVectorizer\n",
    "from sklearn.model_selection import train_test_split\n",
    "from sklearn.ensemble import RandomForestClassifier\n",
    "from sklearn.preprocessing import LabelEncoder"
   ]
  },
  {
   "cell_type": "markdown",
   "id": "35b800d7-8a82-4230-a3ac-35c2312e7be0",
   "metadata": {},
   "source": [
    "# Load Dataset"
   ]
  },
  {
   "cell_type": "code",
   "execution_count": 2,
   "id": "c4f910d8-b99d-4d8d-8837-67817454b22e",
   "metadata": {},
   "outputs": [
    {
     "data": {
      "text/plain": [
       "'D:\\\\reddit-sentiment-analysis\\\\experimentations'"
      ]
     },
     "execution_count": 2,
     "metadata": {},
     "output_type": "execute_result"
    }
   ],
   "source": [
    "pwd"
   ]
  },
  {
   "cell_type": "code",
   "execution_count": 3,
   "id": "e374ee1a-13b4-4515-846b-af9d1c4b514b",
   "metadata": {},
   "outputs": [
    {
     "data": {
      "text/html": [
       "<div>\n",
       "<style scoped>\n",
       "    .dataframe tbody tr th:only-of-type {\n",
       "        vertical-align: middle;\n",
       "    }\n",
       "\n",
       "    .dataframe tbody tr th {\n",
       "        vertical-align: top;\n",
       "    }\n",
       "\n",
       "    .dataframe thead th {\n",
       "        text-align: right;\n",
       "    }\n",
       "</style>\n",
       "<table border=\"1\" class=\"dataframe\">\n",
       "  <thead>\n",
       "    <tr style=\"text-align: right;\">\n",
       "      <th></th>\n",
       "      <th>comment</th>\n",
       "      <th>sentiment</th>\n",
       "      <th>stop_words_count</th>\n",
       "      <th>neg_stop_words_count</th>\n",
       "      <th>word_count</th>\n",
       "      <th>named_sentiment</th>\n",
       "      <th>sentence_length</th>\n",
       "      <th>response</th>\n",
       "      <th>nouns</th>\n",
       "      <th>verbs</th>\n",
       "      <th>adjectives</th>\n",
       "    </tr>\n",
       "  </thead>\n",
       "  <tbody>\n",
       "    <tr>\n",
       "      <th>0</th>\n",
       "      <td>family mormon never tried explain still stare ...</td>\n",
       "      <td>1</td>\n",
       "      <td>13</td>\n",
       "      <td>0</td>\n",
       "      <td>39</td>\n",
       "      <td>positive</td>\n",
       "      <td>Long</td>\n",
       "      <td>0</td>\n",
       "      <td>16</td>\n",
       "      <td>4</td>\n",
       "      <td>2</td>\n",
       "    </tr>\n",
       "    <tr>\n",
       "      <th>1</th>\n",
       "      <td>buddhism much lot compatible christianity espe...</td>\n",
       "      <td>1</td>\n",
       "      <td>59</td>\n",
       "      <td>3</td>\n",
       "      <td>196</td>\n",
       "      <td>positive</td>\n",
       "      <td>Very Long</td>\n",
       "      <td>0</td>\n",
       "      <td>58</td>\n",
       "      <td>30</td>\n",
       "      <td>24</td>\n",
       "    </tr>\n",
       "    <tr>\n",
       "      <th>2</th>\n",
       "      <td>seriously say thing first get complex explain ...</td>\n",
       "      <td>-1</td>\n",
       "      <td>40</td>\n",
       "      <td>0</td>\n",
       "      <td>86</td>\n",
       "      <td>negative</td>\n",
       "      <td>Very Long</td>\n",
       "      <td>0</td>\n",
       "      <td>18</td>\n",
       "      <td>7</td>\n",
       "      <td>10</td>\n",
       "    </tr>\n",
       "    <tr>\n",
       "      <th>3</th>\n",
       "      <td>learned want teach different focus goal wrappi...</td>\n",
       "      <td>0</td>\n",
       "      <td>15</td>\n",
       "      <td>1</td>\n",
       "      <td>29</td>\n",
       "      <td>neutral</td>\n",
       "      <td>Long</td>\n",
       "      <td>0</td>\n",
       "      <td>7</td>\n",
       "      <td>4</td>\n",
       "      <td>2</td>\n",
       "    </tr>\n",
       "    <tr>\n",
       "      <th>4</th>\n",
       "      <td>benefit may want read living buddha living chr...</td>\n",
       "      <td>1</td>\n",
       "      <td>45</td>\n",
       "      <td>1</td>\n",
       "      <td>112</td>\n",
       "      <td>positive</td>\n",
       "      <td>Very Long</td>\n",
       "      <td>0</td>\n",
       "      <td>20</td>\n",
       "      <td>19</td>\n",
       "      <td>12</td>\n",
       "    </tr>\n",
       "  </tbody>\n",
       "</table>\n",
       "</div>"
      ],
      "text/plain": [
       "                                             comment  sentiment  \\\n",
       "0  family mormon never tried explain still stare ...          1   \n",
       "1  buddhism much lot compatible christianity espe...          1   \n",
       "2  seriously say thing first get complex explain ...         -1   \n",
       "3  learned want teach different focus goal wrappi...          0   \n",
       "4  benefit may want read living buddha living chr...          1   \n",
       "\n",
       "   stop_words_count  neg_stop_words_count  word_count named_sentiment  \\\n",
       "0                13                     0          39        positive   \n",
       "1                59                     3         196        positive   \n",
       "2                40                     0          86        negative   \n",
       "3                15                     1          29         neutral   \n",
       "4                45                     1         112        positive   \n",
       "\n",
       "  sentence_length  response  nouns  verbs  adjectives  \n",
       "0            Long         0     16      4           2  \n",
       "1       Very Long         0     58     30          24  \n",
       "2       Very Long         0     18      7          10  \n",
       "3            Long         0      7      4           2  \n",
       "4       Very Long         0     20     19          12  "
      ]
     },
     "execution_count": 3,
     "metadata": {},
     "output_type": "execute_result"
    }
   ],
   "source": [
    "# load the data\n",
    "PATH = r\"../data/reddit_cleaned_data.csv\"\n",
    "df = pd.read_csv(PATH)\n",
    "\n",
    "df.head()"
   ]
  },
  {
   "cell_type": "code",
   "execution_count": 4,
   "id": "8136b7e7-3f74-44ad-b1c5-ebc5e0d57525",
   "metadata": {},
   "outputs": [
    {
     "data": {
      "text/html": [
       "<div>\n",
       "<style scoped>\n",
       "    .dataframe tbody tr th:only-of-type {\n",
       "        vertical-align: middle;\n",
       "    }\n",
       "\n",
       "    .dataframe tbody tr th {\n",
       "        vertical-align: top;\n",
       "    }\n",
       "\n",
       "    .dataframe thead th {\n",
       "        text-align: right;\n",
       "    }\n",
       "</style>\n",
       "<table border=\"1\" class=\"dataframe\">\n",
       "  <thead>\n",
       "    <tr style=\"text-align: right;\">\n",
       "      <th></th>\n",
       "      <th>comment</th>\n",
       "      <th>named_sentiment</th>\n",
       "    </tr>\n",
       "  </thead>\n",
       "  <tbody>\n",
       "    <tr>\n",
       "      <th>0</th>\n",
       "      <td>family mormon never tried explain still stare ...</td>\n",
       "      <td>positive</td>\n",
       "    </tr>\n",
       "    <tr>\n",
       "      <th>1</th>\n",
       "      <td>buddhism much lot compatible christianity espe...</td>\n",
       "      <td>positive</td>\n",
       "    </tr>\n",
       "    <tr>\n",
       "      <th>2</th>\n",
       "      <td>seriously say thing first get complex explain ...</td>\n",
       "      <td>negative</td>\n",
       "    </tr>\n",
       "    <tr>\n",
       "      <th>3</th>\n",
       "      <td>learned want teach different focus goal wrappi...</td>\n",
       "      <td>neutral</td>\n",
       "    </tr>\n",
       "    <tr>\n",
       "      <th>4</th>\n",
       "      <td>benefit may want read living buddha living chr...</td>\n",
       "      <td>positive</td>\n",
       "    </tr>\n",
       "    <tr>\n",
       "      <th>...</th>\n",
       "      <td>...</td>\n",
       "      <td>...</td>\n",
       "    </tr>\n",
       "    <tr>\n",
       "      <th>29746</th>\n",
       "      <td>hona hai vaccination education insurance end m...</td>\n",
       "      <td>neutral</td>\n",
       "    </tr>\n",
       "    <tr>\n",
       "      <th>29747</th>\n",
       "      <td>agree push make nation either pity pakistan in...</td>\n",
       "      <td>negative</td>\n",
       "    </tr>\n",
       "    <tr>\n",
       "      <th>29748</th>\n",
       "      <td>jesus</td>\n",
       "      <td>neutral</td>\n",
       "    </tr>\n",
       "    <tr>\n",
       "      <th>29749</th>\n",
       "      <td>downvote karna tha par upvote hogaya</td>\n",
       "      <td>neutral</td>\n",
       "    </tr>\n",
       "    <tr>\n",
       "      <th>29750</th>\n",
       "      <td>haha nice</td>\n",
       "      <td>positive</td>\n",
       "    </tr>\n",
       "  </tbody>\n",
       "</table>\n",
       "<p>29751 rows × 2 columns</p>\n",
       "</div>"
      ],
      "text/plain": [
       "                                                 comment named_sentiment\n",
       "0      family mormon never tried explain still stare ...        positive\n",
       "1      buddhism much lot compatible christianity espe...        positive\n",
       "2      seriously say thing first get complex explain ...        negative\n",
       "3      learned want teach different focus goal wrappi...         neutral\n",
       "4      benefit may want read living buddha living chr...        positive\n",
       "...                                                  ...             ...\n",
       "29746  hona hai vaccination education insurance end m...         neutral\n",
       "29747  agree push make nation either pity pakistan in...        negative\n",
       "29748                                              jesus         neutral\n",
       "29749               downvote karna tha par upvote hogaya         neutral\n",
       "29750                                          haha nice        positive\n",
       "\n",
       "[29751 rows x 2 columns]"
      ]
     },
     "execution_count": 4,
     "metadata": {},
     "output_type": "execute_result"
    }
   ],
   "source": [
    "# Only use the comments column for now\n",
    "\n",
    "final_df = df[['comment','named_sentiment']].copy()\n",
    "\n",
    "final_df"
   ]
  },
  {
   "cell_type": "code",
   "execution_count": 5,
   "id": "fc757715-0a27-412c-ba25-db74df955d0b",
   "metadata": {},
   "outputs": [
    {
     "data": {
      "text/plain": [
       "comment            180\n",
       "named_sentiment      0\n",
       "dtype: int64"
      ]
     },
     "execution_count": 5,
     "metadata": {},
     "output_type": "execute_result"
    }
   ],
   "source": [
    "# check for missing values\n",
    "\n",
    "final_df.isna().sum()"
   ]
  },
  {
   "cell_type": "code",
   "execution_count": 6,
   "id": "bf431f59-f81b-47c0-b139-62d3cd414c1b",
   "metadata": {},
   "outputs": [
    {
     "data": {
      "text/html": [
       "<div>\n",
       "<style scoped>\n",
       "    .dataframe tbody tr th:only-of-type {\n",
       "        vertical-align: middle;\n",
       "    }\n",
       "\n",
       "    .dataframe tbody tr th {\n",
       "        vertical-align: top;\n",
       "    }\n",
       "\n",
       "    .dataframe thead th {\n",
       "        text-align: right;\n",
       "    }\n",
       "</style>\n",
       "<table border=\"1\" class=\"dataframe\">\n",
       "  <thead>\n",
       "    <tr style=\"text-align: right;\">\n",
       "      <th></th>\n",
       "      <th>comment</th>\n",
       "      <th>named_sentiment</th>\n",
       "    </tr>\n",
       "  </thead>\n",
       "  <tbody>\n",
       "    <tr>\n",
       "      <th>255</th>\n",
       "      <td>NaN</td>\n",
       "      <td>neutral</td>\n",
       "    </tr>\n",
       "    <tr>\n",
       "      <th>620</th>\n",
       "      <td>NaN</td>\n",
       "      <td>neutral</td>\n",
       "    </tr>\n",
       "    <tr>\n",
       "      <th>678</th>\n",
       "      <td>NaN</td>\n",
       "      <td>neutral</td>\n",
       "    </tr>\n",
       "    <tr>\n",
       "      <th>685</th>\n",
       "      <td>NaN</td>\n",
       "      <td>neutral</td>\n",
       "    </tr>\n",
       "    <tr>\n",
       "      <th>784</th>\n",
       "      <td>NaN</td>\n",
       "      <td>neutral</td>\n",
       "    </tr>\n",
       "    <tr>\n",
       "      <th>...</th>\n",
       "      <td>...</td>\n",
       "      <td>...</td>\n",
       "    </tr>\n",
       "    <tr>\n",
       "      <th>29411</th>\n",
       "      <td>NaN</td>\n",
       "      <td>neutral</td>\n",
       "    </tr>\n",
       "    <tr>\n",
       "      <th>29571</th>\n",
       "      <td>NaN</td>\n",
       "      <td>neutral</td>\n",
       "    </tr>\n",
       "    <tr>\n",
       "      <th>29598</th>\n",
       "      <td>NaN</td>\n",
       "      <td>neutral</td>\n",
       "    </tr>\n",
       "    <tr>\n",
       "      <th>29702</th>\n",
       "      <td>NaN</td>\n",
       "      <td>neutral</td>\n",
       "    </tr>\n",
       "    <tr>\n",
       "      <th>29741</th>\n",
       "      <td>NaN</td>\n",
       "      <td>neutral</td>\n",
       "    </tr>\n",
       "  </tbody>\n",
       "</table>\n",
       "<p>180 rows × 2 columns</p>\n",
       "</div>"
      ],
      "text/plain": [
       "      comment named_sentiment\n",
       "255       NaN         neutral\n",
       "620       NaN         neutral\n",
       "678       NaN         neutral\n",
       "685       NaN         neutral\n",
       "784       NaN         neutral\n",
       "...       ...             ...\n",
       "29411     NaN         neutral\n",
       "29571     NaN         neutral\n",
       "29598     NaN         neutral\n",
       "29702     NaN         neutral\n",
       "29741     NaN         neutral\n",
       "\n",
       "[180 rows x 2 columns]"
      ]
     },
     "execution_count": 6,
     "metadata": {},
     "output_type": "execute_result"
    }
   ],
   "source": [
    "# missing values\n",
    "\n",
    "final_df.loc[final_df['comment'].isna()]"
   ]
  },
  {
   "cell_type": "code",
   "execution_count": 7,
   "id": "571b46ba-1549-4116-aca9-5b628be59c36",
   "metadata": {},
   "outputs": [
    {
     "name": "stdout",
     "output_type": "stream",
     "text": [
      "Rows in data before removing missing values 29751\n",
      "Rows in data after removing missing values 29571\n"
     ]
    }
   ],
   "source": [
    "# remove the rows having missing values\n",
    "\n",
    "print(\"Rows in data before removing missing values\", final_df.shape[0])\n",
    "\n",
    "final_df = final_df.dropna()\n",
    "\n",
    "print(\"Rows in data after removing missing values\", final_df.shape[0])"
   ]
  },
  {
   "cell_type": "code",
   "execution_count": 10,
   "id": "660cb74a-5e5e-43e9-897c-b86019edcaa0",
   "metadata": {},
   "outputs": [
    {
     "data": {
      "text/html": [
       "<div>\n",
       "<style scoped>\n",
       "    .dataframe tbody tr th:only-of-type {\n",
       "        vertical-align: middle;\n",
       "    }\n",
       "\n",
       "    .dataframe tbody tr th {\n",
       "        vertical-align: top;\n",
       "    }\n",
       "\n",
       "    .dataframe thead th {\n",
       "        text-align: right;\n",
       "    }\n",
       "</style>\n",
       "<table border=\"1\" class=\"dataframe\">\n",
       "  <thead>\n",
       "    <tr style=\"text-align: right;\">\n",
       "      <th></th>\n",
       "      <th>comment</th>\n",
       "      <th>named_sentiment</th>\n",
       "    </tr>\n",
       "  </thead>\n",
       "  <tbody>\n",
       "    <tr>\n",
       "      <th>11011</th>\n",
       "      <td>aadhar</td>\n",
       "      <td>neutral</td>\n",
       "    </tr>\n",
       "    <tr>\n",
       "      <th>15254</th>\n",
       "      <td>aadhar</td>\n",
       "      <td>neutral</td>\n",
       "    </tr>\n",
       "    <tr>\n",
       "      <th>20346</th>\n",
       "      <td>aap</td>\n",
       "      <td>neutral</td>\n",
       "    </tr>\n",
       "    <tr>\n",
       "      <th>2346</th>\n",
       "      <td>aap</td>\n",
       "      <td>neutral</td>\n",
       "    </tr>\n",
       "    <tr>\n",
       "      <th>3110</th>\n",
       "      <td>aap</td>\n",
       "      <td>neutral</td>\n",
       "    </tr>\n",
       "    <tr>\n",
       "      <th>...</th>\n",
       "      <td>...</td>\n",
       "      <td>...</td>\n",
       "    </tr>\n",
       "    <tr>\n",
       "      <th>28187</th>\n",
       "      <td>yy</td>\n",
       "      <td>neutral</td>\n",
       "    </tr>\n",
       "    <tr>\n",
       "      <th>28172</th>\n",
       "      <td>yy</td>\n",
       "      <td>neutral</td>\n",
       "    </tr>\n",
       "    <tr>\n",
       "      <th>28081</th>\n",
       "      <td>yy</td>\n",
       "      <td>neutral</td>\n",
       "    </tr>\n",
       "    <tr>\n",
       "      <th>2537</th>\n",
       "      <td>zor bolo</td>\n",
       "      <td>neutral</td>\n",
       "    </tr>\n",
       "    <tr>\n",
       "      <th>27373</th>\n",
       "      <td>zor bolo</td>\n",
       "      <td>neutral</td>\n",
       "    </tr>\n",
       "  </tbody>\n",
       "</table>\n",
       "<p>712 rows × 2 columns</p>\n",
       "</div>"
      ],
      "text/plain": [
       "        comment named_sentiment\n",
       "11011    aadhar         neutral\n",
       "15254    aadhar         neutral\n",
       "20346       aap         neutral\n",
       "2346        aap         neutral\n",
       "3110        aap         neutral\n",
       "...         ...             ...\n",
       "28187        yy         neutral\n",
       "28172        yy         neutral\n",
       "28081        yy         neutral\n",
       "2537   zor bolo         neutral\n",
       "27373  zor bolo         neutral\n",
       "\n",
       "[712 rows x 2 columns]"
      ]
     },
     "execution_count": 10,
     "metadata": {},
     "output_type": "execute_result"
    }
   ],
   "source": [
    "# check for duplicates\n",
    "\n",
    "final_df.loc[final_df['comment'].duplicated(keep=False)].sort_values('comment')"
   ]
  },
  {
   "cell_type": "code",
   "execution_count": 11,
   "id": "24753195-f31b-4735-87e1-9d5eaa370db2",
   "metadata": {},
   "outputs": [
    {
     "name": "stderr",
     "output_type": "stream",
     "text": [
      "C:\\Users\\himan\\AppData\\Local\\Temp\\ipykernel_12052\\2430939511.py:3: SettingWithCopyWarning: \n",
      "A value is trying to be set on a copy of a slice from a DataFrame\n",
      "\n",
      "See the caveats in the documentation: https://pandas.pydata.org/pandas-docs/stable/user_guide/indexing.html#returning-a-view-versus-a-copy\n",
      "  final_df.drop_duplicates(inplace=True)\n"
     ]
    }
   ],
   "source": [
    "# delete duplicates from data\n",
    "\n",
    "final_df.drop_duplicates(inplace=True)"
   ]
  },
  {
   "cell_type": "code",
   "execution_count": 14,
   "id": "7bc65d11-180c-4119-8692-ddfa854199ce",
   "metadata": {},
   "outputs": [
    {
     "data": {
      "text/plain": [
       "comment            0\n",
       "named_sentiment    0\n",
       "dtype: int64"
      ]
     },
     "execution_count": 14,
     "metadata": {},
     "output_type": "execute_result"
    }
   ],
   "source": [
    "final_df.isna().sum()"
   ]
  },
  {
   "cell_type": "markdown",
   "id": "fb068784-08a7-465a-82d8-81c203519035",
   "metadata": {},
   "source": [
    "# Experimentation"
   ]
  },
  {
   "cell_type": "code",
   "execution_count": 15,
   "id": "dae74165-f536-4a6d-9fa0-42c4c54bf1a9",
   "metadata": {},
   "outputs": [
    {
     "data": {
      "text/plain": [
       "0        family mormon never tried explain still stare ...\n",
       "1        buddhism much lot compatible christianity espe...\n",
       "2        seriously say thing first get complex explain ...\n",
       "3        learned want teach different focus goal wrappi...\n",
       "4        benefit may want read living buddha living chr...\n",
       "                               ...                        \n",
       "29745                        let janta decide ulema cleric\n",
       "29746    hona hai vaccination education insurance end m...\n",
       "29747    agree push make nation either pity pakistan in...\n",
       "29748                                                jesus\n",
       "29749                 downvote karna tha par upvote hogaya\n",
       "Name: comment, Length: 29152, dtype: object"
      ]
     },
     "execution_count": 15,
     "metadata": {},
     "output_type": "execute_result"
    }
   ],
   "source": [
    "# make X and y\n",
    "\n",
    "X = final_df['comment']\n",
    "y = final_df['named_sentiment']\n",
    "X"
   ]
  },
  {
   "cell_type": "code",
   "execution_count": 17,
   "id": "23747a29-3c35-48e3-821b-58747872f986",
   "metadata": {},
   "outputs": [
    {
     "name": "stdout",
     "output_type": "stream",
     "text": [
      "The number of rows in train data are  23321\n",
      "The number of rows in test data are  5831\n"
     ]
    }
   ],
   "source": [
    "# do train test split\n",
    "\n",
    "X_train, X_test, y_train, y_test = train_test_split(X,y,test_size=0.2, \n",
    "                                                    random_state=42, stratify=y)\n",
    "\n",
    "print(\"The number of rows in train data are \",X_train.shape[0])\n",
    "print(\"The number of rows in test data are \",X_test.shape[0])"
   ]
  },
  {
   "cell_type": "code",
   "execution_count": 19,
   "id": "3527b044-baff-46f0-a4e1-abac4a927be2",
   "metadata": {},
   "outputs": [],
   "source": [
    "from sklearn.metrics import accuracy_score, classification_report\n",
    "from sklearn.pipeline import Pipeline"
   ]
  },
  {
   "cell_type": "code",
   "execution_count": 31,
   "id": "0fc73112-7cbe-4fad-b79c-200659325d79",
   "metadata": {},
   "outputs": [
    {
     "data": {
      "text/plain": [
       "'TfidfVectorizer'"
      ]
     },
     "execution_count": 31,
     "metadata": {},
     "output_type": "execute_result"
    }
   ],
   "source": [
    "TfidfVectorizer().__class__.__name__"
   ]
  },
  {
   "cell_type": "code",
   "execution_count": 42,
   "id": "da48259f-e37c-473e-8455-7c8017b857a6",
   "metadata": {},
   "outputs": [],
   "source": [
    "# make a function to perform experimentation\n",
    "\n",
    "def do_experimentation(vectorizer,n_gram):\n",
    "    max_features = 10000\n",
    "    if vectorizer == \"bow\":\n",
    "        vect = CountVectorizer(max_features=max_features, ngram_range=n_gram)\n",
    "    elif vectorizer == \"tfidf\":\n",
    "        vect = TfidfVectorizer(max_features=max_features, ngram_range=n_gram)\n",
    "    \n",
    "    model_pipe = Pipeline(steps=[\n",
    "        (\"vec\",vect),\n",
    "        (\"clf\",RandomForestClassifier(random_state=42,n_jobs=-1))\n",
    "    ])\n",
    "\n",
    "    # fit the pipeline on training data\n",
    "    model_pipe.fit(X_train,y_train)\n",
    "    # calculate predictions\n",
    "    y_pred = model_pipe.predict(X_test)\n",
    "\n",
    "    with mlflow.start_run(run_name=f\"{vect.__class__.__name__}{n_gram}\") as run:\n",
    "        # accuracy score\n",
    "        accuracy = accuracy_score(y_test,y_pred)\n",
    "        mlflow.log_metric(\"accuracy\",accuracy)\n",
    "    \n",
    "        # classification report\n",
    "        report = classification_report(y_test,y_pred,output_dict=True)\n",
    "        # log classification report\n",
    "        for label, metrics in report.items():\n",
    "            if isinstance(metrics,dict):\n",
    "                for metric, value in metrics.items():\n",
    "                    mlflow.log_metric(f\"{label}_{metric}\",value)\n",
    "    \n",
    "        # log the vectorizer name\n",
    "        mlflow.log_param(\"vectorizer\",vectorizer)\n",
    "    \n",
    "        # log the ngram range\n",
    "        mlflow.log_param(\"ngram\",n_gram)\n",
    "\n",
    "    return \"OK\""
   ]
  },
  {
   "cell_type": "code",
   "execution_count": 38,
   "id": "c81f17e2-a018-4714-80d5-af5506db2489",
   "metadata": {},
   "outputs": [],
   "source": [
    "# set the tracking uri\n",
    "\n",
    "mlflow.set_tracking_uri(\"https://dagshub.com/himanshu1703/reddit-sentiment-analysis.mlflow\")"
   ]
  },
  {
   "cell_type": "code",
   "execution_count": 39,
   "id": "4ee0adc3-4605-4293-8168-5ee62ca72d33",
   "metadata": {},
   "outputs": [
    {
     "data": {
      "text/html": [
       "<pre style=\"white-space:pre;overflow-x:auto;line-height:normal;font-family:Menlo,'DejaVu Sans Mono',consolas,'Courier New',monospace\">Initialized MLflow to track repo <span style=\"color: #008000; text-decoration-color: #008000\">\"himanshu1703/reddit-sentiment-analysis\"</span>\n",
       "</pre>\n"
      ],
      "text/plain": [
       "Initialized MLflow to track repo \u001b[32m\"himanshu1703/reddit-sentiment-analysis\"\u001b[0m\n"
      ]
     },
     "metadata": {},
     "output_type": "display_data"
    },
    {
     "data": {
      "text/html": [
       "<pre style=\"white-space:pre;overflow-x:auto;line-height:normal;font-family:Menlo,'DejaVu Sans Mono',consolas,'Courier New',monospace\">Repository himanshu1703/reddit-sentiment-analysis initialized!\n",
       "</pre>\n"
      ],
      "text/plain": [
       "Repository himanshu1703/reddit-sentiment-analysis initialized!\n"
      ]
     },
     "metadata": {},
     "output_type": "display_data"
    }
   ],
   "source": [
    "# initialize dagshub\n",
    "\n",
    "dagshub.init(repo_owner='himanshu1703', repo_name='reddit-sentiment-analysis', mlflow=True)"
   ]
  },
  {
   "cell_type": "code",
   "execution_count": 40,
   "id": "cb760510-0693-4151-b732-f730767c6176",
   "metadata": {},
   "outputs": [
    {
     "data": {
      "text/plain": [
       "<Experiment: artifact_location='mlflow-artifacts:/c723eac722214cbd98fa0b85ef37db16', creation_time=1729784659284, experiment_id='3', last_update_time=1729784659284, lifecycle_stage='active', name='Ex-1: Choose Vectorizer and n_gram range', tags={}>"
      ]
     },
     "execution_count": 40,
     "metadata": {},
     "output_type": "execute_result"
    }
   ],
   "source": [
    "# set experiment name\n",
    "\n",
    "mlflow.set_experiment(\"Ex-1: Choose Vectorizer and n_gram range\")"
   ]
  },
  {
   "cell_type": "code",
   "execution_count": 43,
   "id": "ddfd88c3-d530-406c-80a9-e068aec18565",
   "metadata": {},
   "outputs": [
    {
     "name": "stderr",
     "output_type": "stream",
     "text": [
      "2024/10/24 21:23:43 INFO mlflow.tracking._tracking_service.client: 🏃 View run CountVectorizer(1, 1) at: https://dagshub.com/himanshu1703/reddit-sentiment-analysis.mlflow/#/experiments/3/runs/9c56c5434db44bdf9f9af80ada156d14.\n",
      "2024/10/24 21:23:43 INFO mlflow.tracking._tracking_service.client: 🧪 View experiment at: https://dagshub.com/himanshu1703/reddit-sentiment-analysis.mlflow/#/experiments/3.\n"
     ]
    },
    {
     "name": "stdout",
     "output_type": "stream",
     "text": [
      "OK\n"
     ]
    },
    {
     "name": "stderr",
     "output_type": "stream",
     "text": [
      "2024/10/24 21:24:43 INFO mlflow.tracking._tracking_service.client: 🏃 View run CountVectorizer(1, 2) at: https://dagshub.com/himanshu1703/reddit-sentiment-analysis.mlflow/#/experiments/3/runs/c9b068f80a5043569d7affa88a6ef865.\n",
      "2024/10/24 21:24:43 INFO mlflow.tracking._tracking_service.client: 🧪 View experiment at: https://dagshub.com/himanshu1703/reddit-sentiment-analysis.mlflow/#/experiments/3.\n"
     ]
    },
    {
     "name": "stdout",
     "output_type": "stream",
     "text": [
      "OK\n"
     ]
    },
    {
     "name": "stderr",
     "output_type": "stream",
     "text": [
      "2024/10/24 21:25:38 INFO mlflow.tracking._tracking_service.client: 🏃 View run CountVectorizer(1, 3) at: https://dagshub.com/himanshu1703/reddit-sentiment-analysis.mlflow/#/experiments/3/runs/225757f51bbf409198a8b8f1e8a70b27.\n",
      "2024/10/24 21:25:38 INFO mlflow.tracking._tracking_service.client: 🧪 View experiment at: https://dagshub.com/himanshu1703/reddit-sentiment-analysis.mlflow/#/experiments/3.\n"
     ]
    },
    {
     "name": "stdout",
     "output_type": "stream",
     "text": [
      "OK\n"
     ]
    },
    {
     "name": "stderr",
     "output_type": "stream",
     "text": [
      "2024/10/24 21:26:26 INFO mlflow.tracking._tracking_service.client: 🏃 View run TfidfVectorizer(1, 1) at: https://dagshub.com/himanshu1703/reddit-sentiment-analysis.mlflow/#/experiments/3/runs/955ad471c37e4f7093de3d7363f4698f.\n",
      "2024/10/24 21:26:26 INFO mlflow.tracking._tracking_service.client: 🧪 View experiment at: https://dagshub.com/himanshu1703/reddit-sentiment-analysis.mlflow/#/experiments/3.\n"
     ]
    },
    {
     "name": "stdout",
     "output_type": "stream",
     "text": [
      "OK\n"
     ]
    },
    {
     "name": "stderr",
     "output_type": "stream",
     "text": [
      "2024/10/24 21:27:12 INFO mlflow.tracking._tracking_service.client: 🏃 View run TfidfVectorizer(1, 2) at: https://dagshub.com/himanshu1703/reddit-sentiment-analysis.mlflow/#/experiments/3/runs/331e409ee6f14ec9a9db49d4efcd3953.\n",
      "2024/10/24 21:27:12 INFO mlflow.tracking._tracking_service.client: 🧪 View experiment at: https://dagshub.com/himanshu1703/reddit-sentiment-analysis.mlflow/#/experiments/3.\n"
     ]
    },
    {
     "name": "stdout",
     "output_type": "stream",
     "text": [
      "OK\n"
     ]
    },
    {
     "name": "stderr",
     "output_type": "stream",
     "text": [
      "2024/10/24 21:28:00 INFO mlflow.tracking._tracking_service.client: 🏃 View run TfidfVectorizer(1, 3) at: https://dagshub.com/himanshu1703/reddit-sentiment-analysis.mlflow/#/experiments/3/runs/520b054c28994cbd88d38d7fc54fb772.\n",
      "2024/10/24 21:28:00 INFO mlflow.tracking._tracking_service.client: 🧪 View experiment at: https://dagshub.com/himanshu1703/reddit-sentiment-analysis.mlflow/#/experiments/3.\n"
     ]
    },
    {
     "name": "stdout",
     "output_type": "stream",
     "text": [
      "OK\n"
     ]
    }
   ],
   "source": [
    "vectorizer_types = [\"bow\",\"tfidf\"]\n",
    "n_gram_ranges = [(1,1),(1,2),(1,3)]\n",
    "\n",
    "for vectorizer in vectorizer_types:\n",
    "    for n_gram in n_gram_ranges:\n",
    "        print(do_experimentation(vectorizer=vectorizer,\n",
    "                                n_gram=n_gram))"
   ]
  },
  {
   "attachments": {
    "efe52f48-2921-4f7a-86ae-569bb2636c7b.png": {
     "image/png": "[encoded data removed]"
    }
   },
   "cell_type": "markdown",
   "id": "2c5f73d1-ed80-486d-b21e-52afa2b8f81d",
   "metadata": {},
   "source": [
    "![image.png](attachment:efe52f48-2921-4f7a-86ae-569bb2636c7b.png)"
   ]
  },
  {
   "cell_type": "markdown",
   "id": "5d119ac2-7a58-4322-8484-5936d02adc02",
   "metadata": {},
   "source": [
    "**Experiments suggest that TfIdf with n_gram range of (1,3) works best for the combination of all the 3 classes**"
   ]
  },
  {
   "cell_type": "code",
   "execution_count": null,
   "id": "6b0eea6b-d064-4230-8df6-06d43da6991a",
   "metadata": {},
   "outputs": [],
   "source": []
  }
 ],
 "metadata": {
  "kernelspec": {
   "display_name": "Python 3 (ipykernel)",
   "language": "python",
   "name": "python3"
  },
  "language_info": {
   "codemirror_mode": {
    "name": "ipython",
    "version": 3
   },
   "file_extension": ".py",
   "mimetype": "text/x-python",
   "name": "python",
   "nbconvert_exporter": "python",
   "pygments_lexer": "ipython3",
   "version": "3.12.3"
  }
 },
 "nbformat": 4,
 "nbformat_minor": 5
}
